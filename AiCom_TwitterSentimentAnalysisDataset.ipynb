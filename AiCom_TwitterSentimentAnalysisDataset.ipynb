{
  "nbformat": 4,
  "nbformat_minor": 0,
  "metadata": {
    "colab": {
      "provenance": [],
      "authorship_tag": "ABX9TyNG3YgfdmCeTfUqTMyynkLm",
      "include_colab_link": true
    },
    "kernelspec": {
      "name": "python3",
      "display_name": "Python 3"
    },
    "language_info": {
      "name": "python"
    },
    "accelerator": "GPU",
    "gpuClass": "standard"
  },
  "cells": [
    {
      "cell_type": "markdown",
      "metadata": {
        "id": "view-in-github",
        "colab_type": "text"
      },
      "source": [
        "<a href=\"https://colab.research.google.com/github/imuneeb33/Ai-Companion/blob/main/AiCom_TwitterSentimentAnalysisDataset.ipynb\" target=\"_parent\"><img src=\"https://colab.research.google.com/assets/colab-badge.svg\" alt=\"Open In Colab\"/></a>"
      ]
    },
    {
      "cell_type": "code",
      "execution_count": 2,
      "metadata": {
        "id": "s_BQH2mSaXUM"
      },
      "outputs": [],
      "source": [
        "# Import necessary libraries\n",
        "import pandas as pd\n",
        "import numpy as np\n"
      ]
    },
    {
      "cell_type": "code",
      "source": [
        "\n",
        "\n",
        "# create a dictionary with data\n",
        "data = {'name': ['John', 'Jane', 'Bob', 'Emily'],\n",
        "        'age': [25, 30, 20, 35],\n",
        "        'country': ['USA', 'Canada', 'Australia', 'UK']}\n",
        "\n",
        "# create a DataFrame from the dictionary\n",
        "df = pd.DataFrame(data)\n",
        "\n",
        "# print the DataFrame\n",
        "print(df)"
      ],
      "metadata": {
        "colab": {
          "base_uri": "https://localhost:8080/"
        },
        "id": "pSS3P1Yrdau8",
        "outputId": "eac80bac-a538-444c-cbf6-f5a843b6bf1d"
      },
      "execution_count": 3,
      "outputs": [
        {
          "output_type": "stream",
          "name": "stdout",
          "text": [
            "    name  age    country\n",
            "0   John   25        USA\n",
            "1   Jane   30     Canada\n",
            "2    Bob   20  Australia\n",
            "3  Emily   35         UK\n"
          ]
        }
      ]
    },
    {
      "cell_type": "code",
      "source": [
        "# Select relevant columns and rename them\n",
        "\n",
        "# Read in data from CSV file\n",
        "df = pd.read_csv('airline_tweets.csv', usecols=['text', 'airline_sentiment'])\n",
        "\n",
        "# Rename columns\n",
        "df = df.rename(columns={'airline_sentiment': 'sentiment'})"
      ],
      "metadata": {
        "id": "vkzJc9N6a3b_"
      },
      "execution_count": 4,
      "outputs": []
    },
    {
      "cell_type": "code",
      "source": [
        "# Map sentiment labels to numerical values\n",
        "sentiment_map = {'negative': 0, 'neutral': 1, 'positive': 2}\n",
        "df['sentiment'] = df['sentiment'].map(sentiment_map)\n"
      ],
      "metadata": {
        "id": "rrgtJ0Jxa6Cu"
      },
      "execution_count": 5,
      "outputs": []
    },
    {
      "cell_type": "code",
      "source": [
        "# Print the first 5 rows of the dataframe to check if it's loaded correctly\n",
        "print(df.head())\n",
        "\n"
      ],
      "metadata": {
        "colab": {
          "base_uri": "https://localhost:8080/"
        },
        "id": "LbPZIqlHa_UN",
        "outputId": "76caee8a-be37-4595-9bcb-e1f4119db896"
      },
      "execution_count": 6,
      "outputs": [
        {
          "output_type": "stream",
          "name": "stdout",
          "text": [
            "   sentiment                                               text\n",
            "0          1                @VirginAmerica What @dhepburn said.\n",
            "1          2  @VirginAmerica plus you've added commercials t...\n",
            "2          1  @VirginAmerica I didn't today... Must mean I n...\n",
            "3          0  @VirginAmerica it's really aggressive to blast...\n",
            "4          0  @VirginAmerica and it's a really big bad thing...\n"
          ]
        }
      ]
    },
    {
      "cell_type": "code",
      "source": [
        "# Split the dataset into training and testing sets\n",
        "from sklearn.model_selection import train_test_split\n",
        "\n",
        "X_train, X_test, y_train, y_test = train_test_split(df['text'], df['sentiment'], test_size=0.2, random_state=42)\n"
      ],
      "metadata": {
        "id": "G9wEApbaa_aW"
      },
      "execution_count": 7,
      "outputs": []
    },
    {
      "cell_type": "code",
      "source": [
        "# Preprocess the text data\n",
        "import re\n",
        "import nltk\n",
        "nltk.download('stopwords')\n",
        "from nltk.corpus import stopwords\n",
        "\n",
        "stop_words = set(stopwords.words('english'))\n",
        "\n",
        "def preprocess_text(text):\n",
        "    # Convert all text to lowercase\n",
        "    text = text.lower()\n",
        "\n",
        "    # Remove numbers and punctuation\n",
        "    text = re.sub('[^a-zA-Z]', ' ', text)\n",
        "\n",
        "    # Tokenize text into words\n",
        "    words = text.split()\n",
        "\n",
        "    # Remove stop words\n",
        "    words = [word for word in words if not word in stop_words]\n",
        "\n",
        "    # Join the remaining words back into a string\n",
        "    text = ' '.join(words)\n",
        "\n",
        "    return text\n",
        "\n",
        "X_train = X_train.apply(preprocess_text)\n",
        "X_test = X_test.apply(preprocess_text)"
      ],
      "metadata": {
        "colab": {
          "base_uri": "https://localhost:8080/"
        },
        "id": "L2WRffJBbJhG",
        "outputId": "8bfd58d1-744a-4211-c92f-8df75a88bb2d"
      },
      "execution_count": 8,
      "outputs": [
        {
          "output_type": "stream",
          "name": "stderr",
          "text": [
            "[nltk_data] Downloading package stopwords to /root/nltk_data...\n",
            "[nltk_data]   Unzipping corpora/stopwords.zip.\n"
          ]
        }
      ]
    },
    {
      "cell_type": "code",
      "source": [
        "# Train a Naive Bayes classifier on the preprocessed data\n",
        "from sklearn.feature_extraction.text import CountVectorizer\n",
        "from sklearn.naive_bayes import MultinomialNB\n",
        "from sklearn.pipeline import Pipeline\n",
        "\n",
        "text_clf = Pipeline([\n",
        "    ('vect', CountVectorizer()),\n",
        "    ('clf', MultinomialNB()),\n",
        "])\n",
        "\n",
        "text_clf.fit(X_train, y_train)"
      ],
      "metadata": {
        "colab": {
          "base_uri": "https://localhost:8080/"
        },
        "id": "PhP6uaJsbJpe",
        "outputId": "c5556387-ba2f-447e-b79d-e18b602f46a2"
      },
      "execution_count": 9,
      "outputs": [
        {
          "output_type": "execute_result",
          "data": {
            "text/plain": [
              "Pipeline(steps=[('vect', CountVectorizer()), ('clf', MultinomialNB())])"
            ]
          },
          "metadata": {},
          "execution_count": 9
        }
      ]
    },
    {
      "cell_type": "code",
      "source": [
        "airline_sentiment = df['sentiment']\n"
      ],
      "metadata": {
        "id": "Pv5MP1RcsUY4"
      },
      "execution_count": 11,
      "outputs": []
    },
    {
      "cell_type": "code",
      "source": [
        "import matplotlib.pyplot as plt\n",
        "\n",
        "# Count the number of each sentiment\n",
        "counts = airline_sentiment.value_counts()\n",
        "\n",
        "# Plot the count of each sentiment as a bar chart\n",
        "plt.bar(counts.index, counts)\n",
        "plt.title('Airline Sentiment')\n",
        "plt.xlabel('Sentiment')\n",
        "plt.ylabel('Count')\n",
        "plt.show()"
      ],
      "metadata": {
        "colab": {
          "base_uri": "https://localhost:8080/",
          "height": 295
        },
        "id": "KxqQfr2Ybkxt",
        "outputId": "37c99d04-e612-4c2e-e282-702a3e353d5c"
      },
      "execution_count": 12,
      "outputs": [
        {
          "output_type": "display_data",
          "data": {
            "text/plain": [
              "<Figure size 432x288 with 1 Axes>"
            ],
            "image/png": "[encoded data removed]"
          },
          "metadata": {
            "needs_background": "light"
          }
        }
      ]
    },
    {
      "cell_type": "code",
      "source": [
        "\n",
        "# Test the trained classifier on the testing set\n",
        "from sklearn.metrics import classification_report\n",
        "\n",
        "y_pred = text_clf.predict(X_test)"
      ],
      "metadata": {
        "id": "FEaKEjTzbVb2"
      },
      "execution_count": 13,
      "outputs": []
    },
    {
      "cell_type": "code",
      "source": [
        "\n",
        "# Test the trained classifier on the testing set\n",
        "from sklearn.metrics import classification_report\n",
        "\n",
        "y_pred = text_clf.predict(X_test)"
      ],
      "metadata": {
        "id": "n_IEp790bVeY"
      },
      "execution_count": 14,
      "outputs": []
    }
  ]
}